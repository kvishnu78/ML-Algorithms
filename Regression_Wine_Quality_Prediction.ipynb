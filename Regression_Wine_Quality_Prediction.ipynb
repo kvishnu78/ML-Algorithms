{
  "nbformat": 4,
  "nbformat_minor": 0,
  "metadata": {
    "colab": {
      "name": "Regression-Wine Quality Prediction.ipynb",
      "provenance": [],
      "collapsed_sections": [],
      "authorship_tag": "ABX9TyNSSGSTPkCS1Ur0ZbEWhjrn",
      "include_colab_link": true
    },
    "kernelspec": {
      "name": "python3",
      "display_name": "Python 3"
    },
    "language_info": {
      "name": "python"
    }
  },
  "cells": [
    {
      "cell_type": "markdown",
      "metadata": {
        "id": "view-in-github",
        "colab_type": "text"
      },
      "source": [
        "<a href=\"https://colab.research.google.com/github/kvishnu78/ML-Algorithms/blob/main/Regression_Wine_Quality_Prediction.ipynb\" target=\"_parent\"><img src=\"https://colab.research.google.com/assets/colab-badge.svg\" alt=\"Open In Colab\"/></a>"
      ]
    },
    {
      "cell_type": "markdown",
      "metadata": {
        "id": "OBEeOeVPDKrm"
      },
      "source": [
        "upoading dataset"
      ]
    },
    {
      "cell_type": "code",
      "metadata": {
        "colab": {
          "resources": {
            "http://localhost:8080/nbextensions/google.colab/files.js": {
              "data": "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",
              "ok": true,
              "headers": [
                [
                  "content-type",
                  "application/javascript"
                ]
              ],
              "status": 200,
              "status_text": ""
            }
          },
          "base_uri": "https://localhost:8080/",
          "height": 74
        },
        "id": "tCoti09pHOiy",
        "outputId": "1f0b3751-5dfd-4056-92ba-c1b9aa52f998"
      },
      "source": [
        "from google.colab import files\n",
        "uploaded=files.upload()"
      ],
      "execution_count": null,
      "outputs": [
        {
          "output_type": "display_data",
          "data": {
            "text/html": [
              "\n",
              "     <input type=\"file\" id=\"files-a8554533-4a8e-45de-b654-ff1eef899546\" name=\"files[]\" multiple disabled\n",
              "        style=\"border:none\" />\n",
              "     <output id=\"result-a8554533-4a8e-45de-b654-ff1eef899546\">\n",
              "      Upload widget is only available when the cell has been executed in the\n",
              "      current browser session. Please rerun this cell to enable.\n",
              "      </output>\n",
              "      <script src=\"/nbextensions/google.colab/files.js\"></script> "
            ],
            "text/plain": [
              "<IPython.core.display.HTML object>"
            ]
          },
          "metadata": {}
        },
        {
          "output_type": "stream",
          "text": [
            "Saving winequalityN.csv to winequalityN.csv\n"
          ],
          "name": "stdout"
        }
      ]
    },
    {
      "cell_type": "markdown",
      "metadata": {
        "id": "SZX4OFwaDTYC"
      },
      "source": [
        "Import Section"
      ]
    },
    {
      "cell_type": "code",
      "metadata": {
        "id": "aCFskUdcGqCP"
      },
      "source": [
        "import pandas as pd #to read from excel\n",
        "import numpy as np\n",
        "from sklearn.model_selection import train_test_split#to split training and testing sample\n",
        "from sklearn.preprocessing import Normalizer#to Normalise the data\n",
        "from sklearn.preprocessing import StandardScaler#to Standardise the data\n",
        "from sklearn.linear_model import LogisticRegression#for Logistic regression\n",
        "from sklearn.linear_model import LinearRegression#for linear regression\n",
        "from sklearn import metrics\n",
        "import matplotlib.pyplot as plt\n",
        "import seaborn as sns"
      ],
      "execution_count": null,
      "outputs": []
    },
    {
      "cell_type": "markdown",
      "metadata": {
        "id": "O3SIrCsIDali"
      },
      "source": [
        "Loading the dataset"
      ]
    },
    {
      "cell_type": "code",
      "metadata": {
        "id": "wkFYNVpZHtp_",
        "colab": {
          "base_uri": "https://localhost:8080/"
        },
        "outputId": "d6f67a47-2346-437f-d59b-f225dfba5931"
      },
      "source": [
        "dataset=pd.read_csv(\"winequalityN.csv\")#loading the dataset\n",
        "dataset.isnull().sum()#checking for null values"
      ],
      "execution_count": null,
      "outputs": [
        {
          "output_type": "execute_result",
          "data": {
            "text/plain": [
              "type                     0\n",
              "fixed acidity           10\n",
              "volatile acidity         8\n",
              "citric acid              3\n",
              "residual sugar           2\n",
              "chlorides                2\n",
              "free sulfur dioxide      0\n",
              "total sulfur dioxide     0\n",
              "density                  0\n",
              "pH                       9\n",
              "sulphates                4\n",
              "alcohol                  0\n",
              "quality                  0\n",
              "dtype: int64"
            ]
          },
          "metadata": {},
          "execution_count": 3
        }
      ]
    },
    {
      "cell_type": "code",
      "metadata": {
        "id": "ySqAxJyAFsb2",
        "colab": {
          "base_uri": "https://localhost:8080/"
        },
        "outputId": "9b974f8c-5175-4759-9b7c-b48d7bf63729"
      },
      "source": [
        "dataset.update(dataset.fillna(dataset.median()))#removing the numerical null values using mean value, and fillna is used to fill empty values\n",
        "dataset.isnull().sum()#rechecking number of empty cells"
      ],
      "execution_count": null,
      "outputs": [
        {
          "output_type": "execute_result",
          "data": {
            "text/plain": [
              "type                    0\n",
              "fixed acidity           0\n",
              "volatile acidity        0\n",
              "citric acid             0\n",
              "residual sugar          0\n",
              "chlorides               0\n",
              "free sulfur dioxide     0\n",
              "total sulfur dioxide    0\n",
              "density                 0\n",
              "pH                      0\n",
              "sulphates               0\n",
              "alcohol                 0\n",
              "quality                 0\n",
              "dtype: int64"
            ]
          },
          "metadata": {},
          "execution_count": 4
        }
      ]
    },
    {
      "cell_type": "code",
      "metadata": {
        "id": "od6nWwKRH5wU",
        "colab": {
          "base_uri": "https://localhost:8080/",
          "height": 295
        },
        "outputId": "101bfc33-d3ad-4673-afc5-951fa7134b28"
      },
      "source": [
        "features = ['alcohol']#A simple linear regression model to visualise the plot\n",
        "x=dataset[features]\n",
        "y=dataset['quality'] \n",
        "plt.scatter(x,y)  \n",
        "plt.title('Alcohol vs Quality: Complete Dataset without Preprocessing')  \n",
        "plt.xlabel('Alcohol')  \n",
        "plt.ylabel('Quality')  \n",
        "plt.show()"
      ],
      "execution_count": null,
      "outputs": [
        {
          "output_type": "display_data",
          "data": {
            "image/png": "[encoded data removed]",
            "text/plain": [
              "<Figure size 432x288 with 1 Axes>"
            ]
          },
          "metadata": {
            "needs_background": "light"
          }
        }
      ]
    },
    {
      "cell_type": "code",
      "metadata": {
        "id": "oTJa6amjJKaK"
      },
      "source": [
        "train_x,test_x,train_y,test_y=train_test_split(x,y,test_size=0.10,random_state=3,shuffle=True)#to divide into random test and train samples,\n",
        "#  .10 indicates 10% data for testing, random state=3 is used to control the shuffles and reproduce the splits,shuffle indiactes shuffle the data before splitting"
      ],
      "execution_count": null,
      "outputs": []
    },
    {
      "cell_type": "markdown",
      "metadata": {
        "id": "3yM50PqJiyMz"
      },
      "source": [
        "Data Preprocessing"
      ]
    },
    {
      "cell_type": "code",
      "metadata": {
        "id": "S6OQRREkibH6"
      },
      "source": [
        "#Data Standardisation\n",
        "std=StandardScaler()\n",
        "train_xs=std.fit_transform(train_x)\n",
        "test_xs=std.fit_transform(test_x)\n",
        "#Data Normalisation\n",
        "norm=Normalizer()\n",
        "train_xn=std.fit_transform(train_x)\n",
        "test_xn=std.fit_transform(test_x)\n"
      ],
      "execution_count": null,
      "outputs": []
    },
    {
      "cell_type": "code",
      "metadata": {
        "colab": {
          "base_uri": "https://localhost:8080/",
          "height": 1000
        },
        "id": "VwDzPJ6vvwce",
        "outputId": "24d66c12-95ed-4d9e-c671-1aab0b954719"
      },
      "source": [
        "def plot(Xi,model,c):\n",
        "  plt.scatter(Xi,test_y)\n",
        "  s=\"y=\"+str(round(model.coef_[0],3))+\"*x+\"+str(round(model.intercept_,3))\n",
        "  print('Equation of the line: ',s)\n",
        "  plt.plot(Xi,Xi*model.coef_+model.intercept_,color=c)  \n",
        "  plt.title('Alcohol vs Quality:Testing Sample & line generated')  \n",
        "  plt.xlabel('Alcohol')  \n",
        "  plt.ylabel('Quality') \n",
        "  plt.show()\n",
        "  print(\"\\n\")\n",
        "\n",
        "\n",
        "#original data\n",
        "lr=LinearRegression()\n",
        "lr.fit(train_x,train_y)\n",
        "y_pred=lr.predict(test_x)\n",
        "MSE=round(metrics.mean_squared_error(test_y,y_pred),5)\n",
        "MAE=round(metrics.mean_absolute_error(test_y,y_pred),5)\n",
        "print(\"With Original data:\\nMean Squared error = \",MSE,\"\\nMean Absolute Error = \",MAE)\n",
        "plot(test_x,lr,\"red\")\n",
        "\n",
        "#standardised data\n",
        "lrs=LinearRegression()\n",
        "lrs.fit(train_xs,train_y)\n",
        "y_pred=lrs.predict(test_xs)\n",
        "MSE=round(metrics.mean_squared_error(test_y,y_pred),5)\n",
        "MAE=round(metrics.mean_absolute_error(test_y,y_pred),5)\n",
        "print(\"\\nWith Standardised data:\\nMean Squared error = \",MSE,\"\\nMean Absolute Error = \",MAE)\n",
        "plot(test_xs,lrs,\"green\")\n",
        "\n",
        "#normalised data\n",
        "lrn=LinearRegression()\n",
        "lrn.fit(train_xn,train_y)\n",
        "y_pred=lrs.predict(test_xn)\n",
        "MSE=round(metrics.mean_squared_error(test_y,y_pred),5)\n",
        "MAE=round(metrics.mean_absolute_error(test_y,y_pred),5)\n",
        "print(\"\\nWith Normalised data:\\nMean Squared error = \",MSE,\"\\nMean Absolute Error = \",MAE)\n",
        "plot(test_xn,lrn,\"brown\")\n",
        "\n"
      ],
      "execution_count": null,
      "outputs": [
        {
          "output_type": "stream",
          "text": [
            "With Original data:\n",
            "Mean Squared error =  0.63342 \n",
            "Mean Absolute Error =  0.62873\n",
            "Equation of the line:  y=0.327*x+2.385\n"
          ],
          "name": "stdout"
        },
        {
          "output_type": "display_data",
          "data": {
            "image/png": "[encoded data removed]",
            "text/plain": [
              "<Figure size 432x288 with 1 Axes>"
            ]
          },
          "metadata": {
            "needs_background": "light"
          }
        },
        {
          "output_type": "stream",
          "text": [
            "\n",
            "\n",
            "\n",
            "With Standardised data:\n",
            "Mean Squared error =  0.63309 \n",
            "Mean Absolute Error =  0.62905\n",
            "Equation of the line:  y=0.389*x+5.82\n"
          ],
          "name": "stdout"
        },
        {
          "output_type": "display_data",
          "data": {
            "image/png": "[encoded data removed]",
            "text/plain": [
              "<Figure size 432x288 with 1 Axes>"
            ]
          },
          "metadata": {
            "needs_background": "light"
          }
        },
        {
          "output_type": "stream",
          "text": [
            "\n",
            "\n",
            "\n",
            "With Normalised data:\n",
            "Mean Squared error =  0.63309 \n",
            "Mean Absolute Error =  0.62905\n",
            "Equation of the line:  y=0.389*x+5.82\n"
          ],
          "name": "stdout"
        },
        {
          "output_type": "display_data",
          "data": {
            "image/png": "[encoded data removed]",
            "text/plain": [
              "<Figure size 432x288 with 1 Axes>"
            ]
          },
          "metadata": {
            "needs_background": "light"
          }
        },
        {
          "output_type": "stream",
          "text": [
            "\n",
            "\n"
          ],
          "name": "stdout"
        }
      ]
    },
    {
      "cell_type": "code",
      "metadata": {
        "id": "K-dZzgvPFeFJ"
      },
      "source": [
        "def lineEQ(model):\n",
        "  s=\"y=\"\n",
        "  for i in range(len(model.coef_)):\n",
        "    s=s+str(round(model.coef_[i],3))+\"*x\"+str(i)+\"+\"\n",
        "  s=s+str(round(model.intercept_,3))\n",
        "  print('Equation of the line: ',s)"
      ],
      "execution_count": null,
      "outputs": []
    },
    {
      "cell_type": "markdown",
      "metadata": {
        "id": "ahUH9om6B8-w"
      },
      "source": [
        "LINEAR REGRESSION WITH MORE ATTRIBUTES"
      ]
    },
    {
      "cell_type": "code",
      "metadata": {
        "colab": {
          "base_uri": "https://localhost:8080/"
        },
        "id": "oyLfoBo9AAiT",
        "outputId": "9fa09031-b335-4996-c56a-fd3cfb9853c7"
      },
      "source": [
        "features = ['pH','density','sulphates','free sulfur dioxide','total sulfur dioxide']#input values to the model-not all the attributes are chosen\n",
        "print(\"Features Considered:'pH','density','sulphates','free sulfur dioxide','total sulfur dioxide'\")\n",
        "x=dataset[features]\n",
        "y=dataset['quality'] \n",
        "train_x,test_x,train_y,test_y=train_test_split(x,y,test_size=0.10,random_state=3,shuffle=True)\n",
        "#Data Standardisation\n",
        "std=StandardScaler()\n",
        "train_xs=std.fit_transform(train_x)\n",
        "test_xs=std.fit_transform(test_x)\n",
        "#Data Normalisation\n",
        "norm=Normalizer()\n",
        "train_xn=std.fit_transform(train_x)\n",
        "test_xn=std.fit_transform(test_x)\n",
        "\n",
        "#original data\n",
        "lr=LinearRegression()\n",
        "lr.fit(train_x,train_y)\n",
        "y_pred=lr.predict(test_x)\n",
        "MSE=round(metrics.mean_squared_error(test_y,y_pred),5)\n",
        "MAE=round(metrics.mean_absolute_error(test_y,y_pred),5)\n",
        "print(\"With Original data:\\nMean Squared error = \",MSE,\"\\nMean Absolute Error = \",MAE)\n",
        "lineEQ(lr)\n",
        "\n",
        "#standardised data\n",
        "lrs=LinearRegression()\n",
        "lrs.fit(train_xs,train_y)\n",
        "y_pred=lrs.predict(test_xs)\n",
        "MSE=round(metrics.mean_squared_error(test_y,y_pred),5)\n",
        "MAE=round(metrics.mean_absolute_error(test_y,y_pred),5)\n",
        "print(\"\\nWith Standardised data:\\nMean Squared error = \",MSE,\"\\nMean Absolute Error = \",MAE)\n",
        "lineEQ(lrs)\n",
        "\n",
        "#normalised data\n",
        "lrn=LinearRegression()\n",
        "lrn.fit(train_xn,train_y)\n",
        "y_pred=lrs.predict(test_xn)\n",
        "MSE=round(metrics.mean_squared_error(test_y,y_pred),5)\n",
        "MAE=round(metrics.mean_absolute_error(test_y,y_pred),5)\n",
        "print(\"\\nWith Normalised data:\\nMean Squared error = \",MSE,\"\\nMean Absolute Error = \",MAE)\n",
        "lineEQ(lrn)\n",
        "\n"
      ],
      "execution_count": null,
      "outputs": [
        {
          "output_type": "stream",
          "text": [
            "Features Considered:'pH','density','sulphates','free sulfur dioxide','total sulfur dioxide'\n",
            "With Original data:\n",
            "Mean Squared error =  0.67431 \n",
            "Mean Absolute Error =  0.64127\n",
            "Equation of the line:  y=-0.013*x0+-98.917*x1+0.737*x2+0.009*x3+-0.002*x4+103.814\n",
            "\n",
            "With Standardised data:\n",
            "Mean Squared error =  0.67418 \n",
            "Mean Absolute Error =  0.64192\n",
            "Equation of the line:  y=-0.002*x0+-0.295*x1+0.11*x2+0.156*x3+-0.108*x4+5.82\n",
            "\n",
            "With Normalised data:\n",
            "Mean Squared error =  0.67418 \n",
            "Mean Absolute Error =  0.64192\n",
            "Equation of the line:  y=-0.002*x0+-0.295*x1+0.11*x2+0.156*x3+-0.108*x4+5.82\n"
          ],
          "name": "stdout"
        }
      ]
    },
    {
      "cell_type": "markdown",
      "metadata": {
        "id": "a7JQa2BqRDHI"
      },
      "source": [
        "LINEAR REGRESSION WITH ALL THE ATTRIBUTES"
      ]
    },
    {
      "cell_type": "code",
      "metadata": {
        "colab": {
          "base_uri": "https://localhost:8080/"
        },
        "id": "00gAXlJf-_MF",
        "outputId": "35450363-4abb-4849-c2f8-5d621383d261"
      },
      "source": [
        "features = ['fixed acidity','volatile acidity','citric acid','chlorides','alcohol','residual sugar','pH','density','sulphates','free sulfur dioxide','total sulfur dioxide']#input values to the model-not all the attributes are chosen\n",
        "print(\"Features Considered:'fixed acidity','volatile acidity','citric acid','chlorides','alcohol',\\n'residual sugar','pH','density','sulphates','free sulfur dioxide','total sulfur dioxide'\\n\")\n",
        "x=dataset[features]\n",
        "y=dataset['quality'] \n",
        "train_x,test_x,train_y,test_y=train_test_split(x,y,test_size=0.10,random_state=3,shuffle=True)\n",
        "#Data Standardisation\n",
        "std=StandardScaler()\n",
        "train_xs=std.fit_transform(train_x)\n",
        "test_xs=std.fit_transform(test_x)\n",
        "#Data Normalisation\n",
        "norm=Normalizer()\n",
        "train_xn=std.fit_transform(train_x)\n",
        "test_xn=std.fit_transform(test_x)\n",
        "\n",
        "#original data\n",
        "lr=LinearRegression()\n",
        "lr.fit(train_x,train_y)\n",
        "y_pred=lr.predict(test_x)\n",
        "MSE=round(metrics.mean_squared_error(test_y,y_pred),5)\n",
        "MAE=round(metrics.mean_absolute_error(test_y,y_pred),5)\n",
        "print(\"With Original data:\\nMean Squared error = \",MSE,\"\\nMean Absolute Error = \",MAE)\n",
        "lineEQ(lr)\n",
        "\n",
        "#standardised data\n",
        "lrs=LinearRegression()\n",
        "lrs.fit(train_xs,train_y)\n",
        "y_pred=lrs.predict(test_xs)\n",
        "MSE=round(metrics.mean_squared_error(test_y,y_pred),5)\n",
        "MAE=round(metrics.mean_absolute_error(test_y,y_pred),5)\n",
        "print(\"\\nWith Standardised data:\\nMean Squared error = \",MSE,\"\\nMean Absolute Error = \",MAE)\n",
        "lineEQ(lrs)\n",
        "\n",
        "#normalised data\n",
        "lrn=LinearRegression()\n",
        "lrn.fit(train_xn,train_y)\n",
        "y_pred=lrs.predict(test_xn)\n",
        "MSE=round(metrics.mean_squared_error(test_y,y_pred),5)\n",
        "MAE=round(metrics.mean_absolute_error(test_y,y_pred),5)\n",
        "print(\"\\nWith Normalised data:\\nMean Squared error = \",MSE,\"\\nMean Absolute Error = \",MAE)\n",
        "lineEQ(lrn)\n",
        "\n"
      ],
      "execution_count": null,
      "outputs": [
        {
          "output_type": "stream",
          "text": [
            "Features Considered:'fixed acidity','volatile acidity','citric acid','chlorides','alcohol',\n",
            "'residual sugar','pH','density','sulphates','free sulfur dioxide','total sulfur dioxide'\n",
            "\n",
            "With Original data:\n",
            "Mean Squared error =  0.56149 \n",
            "Mean Absolute Error =  0.56667\n",
            "Equation of the line:  y=0.061*x0+-1.324*x1+-0.125*x2+-0.643*x3+0.275*x4+0.042*x5+0.409*x6+-50.028*x7+0.779*x8+0.006*x9+-0.002*x10+50.922\n",
            "\n",
            "With Standardised data:\n",
            "Mean Squared error =  0.5615 \n",
            "Mean Absolute Error =  0.56707\n",
            "Equation of the line:  y=0.079*x0+-0.219*x1+-0.018*x2+-0.023*x3+0.327*x4+0.201*x5+0.066*x6+-0.149*x7+0.116*x8+0.102*x9+-0.137*x10+5.82\n",
            "\n",
            "With Normalised data:\n",
            "Mean Squared error =  0.5615 \n",
            "Mean Absolute Error =  0.56707\n",
            "Equation of the line:  y=0.079*x0+-0.219*x1+-0.018*x2+-0.023*x3+0.327*x4+0.201*x5+0.066*x6+-0.149*x7+0.116*x8+0.102*x9+-0.137*x10+5.82\n"
          ],
          "name": "stdout"
        }
      ]
    },
    {
      "cell_type": "markdown",
      "metadata": {
        "id": "Fwgrf04yFJnT"
      },
      "source": [
        "LOGISTIC REGRESSION"
      ]
    },
    {
      "cell_type": "markdown",
      "metadata": {
        "id": "9ixNdHnOClSp"
      },
      "source": [
        "*SINCE IT IS NOTED THAT STANDARDISED DATA AND NORMALISED DATA PERFORMED SLIGHTLY BETTER THAN USING THE ORIGINAL DATA, WE ARE USING NORMALISED DATA FOR LOGISTIC REGRESSION(with all the attributes)*"
      ]
    },
    {
      "cell_type": "code",
      "metadata": {
        "colab": {
          "base_uri": "https://localhost:8080/",
          "height": 604
        },
        "id": "TJ3hw9DSIth9",
        "outputId": "2c83f304-9810-45fe-aa51-23f5565f93d8"
      },
      "source": [
        "\n",
        "def confusion(test_y,pred_y):\n",
        "  cm=metrics.confusion_matrix(test_y,pred_y)\n",
        "  #Datatframe to plot confusion matrix\n",
        "  df=pd.DataFrame(cm,index=['3','4','5','6','7','8','9'],columns=['3','4','5','6','7','8','9'])\n",
        "  plt.figure(figsize=(15,10))\n",
        "  sns.heatmap(df,annot=True,cmap='Blues')\n",
        "  st='Confusion Matrix'\n",
        "  plt.title(st)\n",
        "  plt.ylabel('Actual Values')\n",
        "  plt.xlabel('Predicted Values')\n",
        "  plt.show()\n",
        "  print(\"\\n\")\n",
        "\n",
        "Logr=LogisticRegression()\n",
        "Logr.fit(train_xn,train_y)\n",
        "pred_y=Logr.predict(test_xn)\n",
        "acc=round(100*metrics.accuracy_score(test_y,pred_y),2)\n",
        "pre=round(100*metrics.precision_score(test_y,pred_y,average='macro',zero_division=1),2)\n",
        "rec=round(100*metrics.recall_score(test_y,pred_y,average='macro'),2)  \n",
        "print(\"Precison=\",pre,\"\\nRecall=\",rec,\"\\nAccuracy=\",acc,\"\\n\")\n",
        "confusion(test_y,pred_y)\n"
      ],
      "execution_count": null,
      "outputs": [
        {
          "output_type": "stream",
          "text": [
            "Precison= 80.33 \n",
            "Recall= 29.35 \n",
            "Accuracy= 54.15 \n",
            "\n"
          ],
          "name": "stdout"
        },
        {
          "output_type": "display_data",
          "data": {
            "image/png": "[encoded data removed]",
            "text/plain": [
              "<Figure size 1080x720 with 2 Axes>"
            ]
          },
          "metadata": {
            "needs_background": "light"
          }
        },
        {
          "output_type": "stream",
          "text": [
            "\n",
            "\n"
          ],
          "name": "stdout"
        }
      ]
    }
  ]
}